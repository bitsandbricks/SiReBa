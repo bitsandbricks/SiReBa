{
 "cells": [
  {
   "cell_type": "code",
   "execution_count": null,
   "id": "875ec842-16ff-44e8-ba54-d62de9025133",
   "metadata": {
    "tags": []
   },
   "outputs": [],
   "source": [
    "import ee\n",
    "import geemap\n",
    "import os"
   ]
  },
  {
   "cell_type": "code",
   "execution_count": null,
   "id": "6acbf562-0372-44c1-bb72-702b60e81098",
   "metadata": {},
   "outputs": [],
   "source": [
    "# Con esto inicializamos GEE\n",
    "Map = geemap.Map()"
   ]
  },
  {
   "cell_type": "code",
   "execution_count": null,
   "id": "9ceb8760-b22a-4952-be68-5dc43b393831",
   "metadata": {
    "tags": []
   },
   "outputs": [],
   "source": [
    "# Definimos funciones auxiliares\n",
    "\n",
    "def maskS2clouds(img):\n",
    "    qa = img.select('QA60')\n",
    "\n",
    "    # Bits 10 and 11 are clouds and cirrus, respectively.\n",
    "    cloudBitMask = 1 << 10\n",
    "    cirrusBitMask = 1 << 11\n",
    "\n",
    "    # Both flags should be set to zero, indicating clear conditions.\n",
    "    mask = qa.bitwiseAnd(cloudBitMask).eq(0) \\\n",
    "        .And(qa.bitwiseAnd(cirrusBitMask).eq(0))\n",
    "\n",
    "    return img.updateMask(mask).divide(10000)\n",
    "\n",
    "def buildS2Composite(collection, date_start, date_end, poli):\n",
    "\n",
    "    # La banda QA60 contiene informacion sobre presencia de nubes\n",
    "    images = collection.select(['B4', 'B3', 'B2','B8','B11','B12','QA60']) \\\n",
    "        .filterBounds(poli) \\\n",
    "        .filterDate(date_start, date_end) \\\n",
    "        .filter(ee.Filter.lt('CLOUDY_PIXEL_PERCENTAGE', PORCENTAJE_NUBES))\n",
    "\n",
    "    n_images = images.size().getInfo()\n",
    "    print(str(n_images) + \" imágenes con menos de \" + str(PORCENTAJE_NUBES) + \"% de nubes disponibles entre \" + date_start + \" y \" + date_end)\n",
    "    \n",
    "    return images \\\n",
    "        .map(maskS2clouds) \\\n",
    "        .select(['B4', 'B3', 'B2','B8','B11','B12']) \\\n",
    "        .reduce(ee.Reducer.median()) \\\n",
    "        .clip(poli)\n"
   ]
  },
  {
   "cell_type": "code",
   "execution_count": null,
   "id": "80d72bee-a3c2-4b50-af45-6dc0d505d783",
   "metadata": {
    "tags": []
   },
   "outputs": [],
   "source": [
    "# Área de interés\n",
    "AoI = ee.Geometry.Polygon(\n",
    "        [[[-59.22695, -35.22655],\n",
    "          [-59.22695, -34.00694],\n",
    "          [-57.81048, -34.00694],\n",
    "          [-57.81048, -35.22655],\n",
    "          [-59.22695, -35.22655]]])\n",
    "\n",
    "\n",
    "# nombre del area, se utilizará como sufijo para el nombre de las imagenes descargadas\n",
    "desc_AoI = 'RMBA'\n",
    "\n",
    "# Proyección a utilizar para las imágenes generadas\n",
    "target_crs = 'EPSG:4326'\n",
    "\n",
    "# Resolución en metros por pixel, para las imágenes generadas\n",
    "# Sentinel 2 alcanza una resolución de 10 m/pixel\n",
    "target_res = 10"
   ]
  },
  {
   "cell_type": "code",
   "execution_count": null,
   "id": "e95c25f7-6554-4bc6-9717-cab045666a30",
   "metadata": {},
   "outputs": [],
   "source": [
    "# Alternativas para definir \"Area of Interest\": \n",
    "\n",
    "# Tomada de un polígono en shapefile \n",
    "# El archivo debe tener formato .shp, \n",
    "# acompañado en su directorio por los archivos complementarios .prj .dbf, etc\n",
    "AoI_shp = '../data/aoi/RMBA/RMBA_envolvente.shp'\n",
    "AoI = geemap.shp_to_ee(AoI_shp).geometry()\n",
    "\n",
    "# Dibujada a mano alzada sobre el mapa \n",
    "#Map  # (dibujar a mano tras cliquear el ícono del pentágono, \"Draw a polygon\")\n",
    "#feature = Map.draw_last_feature"
   ]
  },
  {
   "cell_type": "code",
   "execution_count": null,
   "id": "6490553e-2730-4154-8ae9-5a8ab8f56e5d",
   "metadata": {
    "tags": []
   },
   "outputs": [],
   "source": [
    "# Rango de fechas (inicio, fin) para el cual obtener imágenes a combinar en un compuesto \"des-nubificado\"\n",
    "# ATENCIÓN: Deben ser fechas válidas (o sea, no indicar el día 31 de un mes que no pasa de 30)\n",
    "DATES = [\n",
    "  ['2020-01-01', '2020-01-31'],\n",
    "  ['2019-08-01', '2019-08-31']\n",
    "  ]"
   ]
  },
  {
   "cell_type": "code",
   "execution_count": null,
   "id": "18a56727-86cf-4731-b0a5-fb665867d8c1",
   "metadata": {
    "tags": []
   },
   "outputs": [],
   "source": [
    "# Fuente de imágenes a utilizar\n",
    "s2 = ee.ImageCollection(\"COPERNICUS/S2\")\n",
    "\n",
    "# Máximo porcentaje de área cubierta por nubes que podemos aceptar\n",
    "PORCENTAJE_NUBES = 1"
   ]
  },
  {
   "cell_type": "markdown",
   "id": "6bd9af87-95d6-4bd5-91fb-8e550114264d",
   "metadata": {
    "tags": []
   },
   "source": [
    "### Descargar imágenes"
   ]
  },
  {
   "cell_type": "code",
   "execution_count": null,
   "id": "272e3ddf-2fff-4eb3-b04e-67f6693e8fdf",
   "metadata": {
    "tags": []
   },
   "outputs": [],
   "source": [
    "# Nombre de carpeta en Google Drive donde dejar las imágenes (puede incluir subdirectorios, como \"GGE/RMBA/Sentinel\")\n",
    "gdrive_folder = \"GEE\""
   ]
  },
  {
   "cell_type": "code",
   "execution_count": null,
   "id": "985a6de0-498f-4d2a-9fa5-cd39565e888c",
   "metadata": {
    "tags": []
   },
   "outputs": [],
   "source": [
    "# Recorremos cada pareja de fechas inicio/fin definidas antes, y para cada una\n",
    "# generamos una imagen compuesta sin nubes e iniciamos una operación\n",
    "# en GEE para transferir el resultado a nuestro Drive\n",
    "\n",
    "for i in range(0, len(DATES), 1):\n",
    "\n",
    "    date_start = DATES[i][0]\n",
    "    date_end = DATES[i][1]\n",
    "\n",
    "    # Generar una imagen compuesta sin nubes.\n",
    "    scene = buildS2Composite(s2, date_start, date_end, AoI)\n",
    "\n",
    "    # descripción de la imagen\n",
    "    desc = desc_AoI + \"_\" + date_start + \"_\" + date_end\n",
    "\n",
    "    #Export.image.toCloudStorage({\n",
    "    #      image: scene,\n",
    "    #      description: desc,\n",
    "    #      bucket: 'Google-cloud-bucket-name',\n",
    "    #      fileNamePrefix: 'Sentinel_' +  strFrom + '_' +  strTo  + '/' ,\n",
    "    #      scale: 10,\n",
    "    #      maxPixels:  30000000000,\n",
    "    #      region: AoI\n",
    "    #    })\n",
    "\n",
    "    print(\"La imagen compuesta para ese rango de fechas se guardará en Google Drive como\", os.path.join(gdrive_folder, desc + \".tif\"))\n",
    "    print(\"\")\n",
    "\n",
    "    # Exportar a Google Drive -- esto inicia un trabajo que corren en \n",
    "    # los servers de GEE para cada imagen. Para monitorearlos correr:\n",
    "    # ee.data.listOperations()\n",
    "\n",
    "    geemap.ee_export_image_to_drive(scene, description=desc, folder=gdrive_folder, region=AoI, \n",
    "                                    scale=target_res, crs=target_crs, maxPixels=300000000)\n"
   ]
  },
  {
   "cell_type": "markdown",
   "id": "54b5d0b9-4980-4838-a3bd-8743595455f6",
   "metadata": {
    "tags": []
   },
   "source": [
    "Se puede ver el estado de las operaciones corriendo en GEE que procesan y transfieren las imágenes a Google Drive con\n",
    "\n",
    "`ee.data.listOperations()` \n",
    "\n",
    "\n",
    "Para cada imagen, se verá una línea que dice\n",
    "\n",
    "`'state': 'RUNNING',`\n",
    "\n",
    "cuando la transferencia está en proceso, que pasará a \n",
    "\n",
    "`'state': 'SUCCEEDED',`\n",
    "\n",
    "cuando haya se haya completado la transferencia.\n",
    "\n",
    "\n",
    "Las áreas que de gran extensión (como la RMBA) se descargaran en partes. Por ejemplo, "
   ]
  },
  {
   "cell_type": "code",
   "execution_count": null,
   "id": "4b108374-d3aa-471b-b962-b5066f10c930",
   "metadata": {
    "tags": []
   },
   "outputs": [],
   "source": [
    "ee.data.listOperations()"
   ]
  }
 ],
 "metadata": {
  "kernelspec": {
   "display_name": "adquisicion_sentinel:Python",
   "language": "python",
   "name": "conda-env-adquisicion_sentinel-py"
  },
  "language_info": {
   "codemirror_mode": {
    "name": "ipython",
    "version": 3
   },
   "file_extension": ".py",
   "mimetype": "text/x-python",
   "name": "python",
   "nbconvert_exporter": "python",
   "pygments_lexer": "ipython3",
   "version": "3.11.3"
  }
 },
 "nbformat": 4,
 "nbformat_minor": 5
}
