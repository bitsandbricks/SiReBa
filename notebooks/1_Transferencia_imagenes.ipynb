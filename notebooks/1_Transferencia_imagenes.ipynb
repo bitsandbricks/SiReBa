{
 "cells": [
  {
   "cell_type": "markdown",
   "id": "6175b2fe-ac10-40f3-88f3-635e794818ae",
   "metadata": {},
   "source": [
    "## Descargando archivos al disco local"
   ]
  },
  {
   "cell_type": "markdown",
   "id": "15f3d027-4e72-44f4-b474-4b483ef29bf2",
   "metadata": {},
   "source": [
    "### Desde Google Drive"
   ]
  },
  {
   "cell_type": "code",
   "execution_count": null,
   "id": "f50154cb-c676-46cd-9049-1c2c824ff56d",
   "metadata": {
    "tags": []
   },
   "outputs": [],
   "source": [
    "import gdown"
   ]
  },
  {
   "cell_type": "markdown",
   "id": "3f09c94f-27e5-4212-8caa-a673570d9063",
   "metadata": {},
   "source": [
    "En Google Drive seleccionar la carpeta que contiene los archivos a descarbar y obtener el link para compartir, algo así como\n",
    "\n",
    "https://drive.google.com/file/d/0B9P1L0s7rkdxy89zMTJWOGxobkU/view?usp=sharing\n"
   ]
  },
  {
   "cell_type": "code",
   "execution_count": null,
   "id": "e93316f4-439b-48de-a031-7a159a003dff",
   "metadata": {},
   "outputs": [],
   "source": [
    "drive_url = 'https://drive.google.com/drive/folders/19A9f99ZF9L999uZ9b9Z989R9gt9rR8_b?usp=sharing'"
   ]
  },
  {
   "cell_type": "markdown",
   "id": "3ed7d91b-5a00-45c0-9e79-7f11379550ad",
   "metadata": {},
   "source": [
    "Entramos a la carpeta local donde dejar los archivos\n",
    "\n"
   ]
  },
  {
   "cell_type": "code",
   "execution_count": null,
   "id": "ee13c0eb-7eee-4319-b71c-f2ddf940f727",
   "metadata": {},
   "outputs": [],
   "source": [
    "%cd /tmp"
   ]
  },
  {
   "cell_type": "markdown",
   "id": "da05ba55-72b2-4e13-827e-fe227d703301",
   "metadata": {},
   "source": [
    "Y descargamos"
   ]
  },
  {
   "cell_type": "code",
   "execution_count": null,
   "id": "11d08666-f9e5-4263-bec7-e7ae9504dba8",
   "metadata": {},
   "outputs": [],
   "source": [
    "gdown.download_folder(drive_url, quiet=False)"
   ]
  },
  {
   "cell_type": "markdown",
   "id": "884ffbc8-873b-4eb2-884d-305b6811e29a",
   "metadata": {},
   "source": [
    "Eso es todo!"
   ]
  }
 ],
 "metadata": {
  "kernelspec": {
   "display_name": "reconocimiento_basurales:Python",
   "language": "python",
   "name": "conda-env-reconocimiento_basurales-py"
  },
  "language_info": {
   "codemirror_mode": {
    "name": "ipython",
    "version": 3
   },
   "file_extension": ".py",
   "mimetype": "text/x-python",
   "name": "python",
   "nbconvert_exporter": "python",
   "pygments_lexer": "ipython3",
   "version": "3.9.15"
  }
 },
 "nbformat": 4,
 "nbformat_minor": 5
}
