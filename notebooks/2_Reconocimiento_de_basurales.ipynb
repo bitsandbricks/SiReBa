{
 "cells": [
  {
   "cell_type": "markdown",
   "id": "cdc10e6f-c114-4eb3-89cb-40474df1cb6c",
   "metadata": {},
   "source": [
    "## Reconocimiento de basurales en imagen satelital"
   ]
  },
  {
   "cell_type": "markdown",
   "id": "1345d380-dbb5-4166-9a2f-841783c411a2",
   "metadata": {
    "tags": []
   },
   "source": [
    "Nota:\n",
    "    \n",
    "Las bandas de color de los raster a analizar deben estar en el orden estándar : RGB, Red-Green-Blue / Rojo-Verde-Azul \n",
    "\n",
    "Las imágenes descargadas de Copernicus vienen en otro orden orden (Azul, Verde, Rojo) por lo que si se utiliza input tomado de esa fuente se deben reorganizar las bandas antes de procesar.\n",
    "\n",
    "Las imágenes descargadas vía Google Earth Engine estan listas para usar.\n"
   ]
  },
  {
   "cell_type": "markdown",
   "id": "3b06f82a-e473-40a1-9e8f-0c669c6802f0",
   "metadata": {},
   "source": [
    "### Preprocesamiento de imagen: generación de mosaicos / chips"
   ]
  },
  {
   "cell_type": "code",
   "execution_count": null,
   "id": "81c54faf-7509-4cb8-a0d3-6c5cf097ba50",
   "metadata": {},
   "outputs": [],
   "source": [
    "# Ubicación de la(s) imagen(es) a procesar\n",
    "\n",
    "image_location = \"/tmp/GEE/*\""
   ]
  },
  {
   "cell_type": "code",
   "execution_count": null,
   "id": "d5a2049a-616b-4e30-80cb-baaa64814fa7",
   "metadata": {
    "tags": []
   },
   "outputs": [],
   "source": [
    "# area de interés (la zona a analizar)\n",
    "\n",
    "aoi_file = \"../data/aoi/RMBA/RMBA_envolvente.shp\""
   ]
  },
  {
   "cell_type": "code",
   "execution_count": null,
   "id": "324a8319-ce37-43c9-8fa9-f4e413232d3a",
   "metadata": {},
   "outputs": [],
   "source": [
    "chip_dir = \"/tmp/chips/\"     # Directorio donde dejar los resultados\n",
    "\n",
    "chip_size = 160                 # tamaño de los \"chips\" (recortes cuadrados) en píxeles por lado"
   ]
  },
  {
   "cell_type": "code",
   "execution_count": null,
   "id": "44cde2fb-0325-4504-af3b-7dfea9c6d86a",
   "metadata": {
    "tags": []
   },
   "outputs": [],
   "source": [
    "!satproc_extract_chips \\\n",
    "    $image_location \\\n",
    "    -o $chip_dir \\\n",
    "    --aoi $aoi_file \\\n",
    "    --size $chip_size \\\n",
    "    --step-size $chip_size"
   ]
  },
  {
   "cell_type": "markdown",
   "id": "e76f646b-2e81-4255-b945-705721a66621",
   "metadata": {},
   "source": [
    "### Detección"
   ]
  },
  {
   "cell_type": "code",
   "execution_count": null,
   "id": "08dd1bf6-a486-44d9-9741-783177fdea79",
   "metadata": {
    "tags": []
   },
   "outputs": [],
   "source": [
    "from unetseg.predict import PredictConfig, predict\n",
    "from unetseg.evaluate import plot_data_generator, plot_data_results"
   ]
  },
  {
   "cell_type": "code",
   "execution_count": null,
   "id": "17cc8327-92a7-4cd2-a368-f7036e4dc277",
   "metadata": {},
   "outputs": [],
   "source": [
    "# Ubicación del modelo\n",
    "model_file = \"../modelos/modelo_deteccion_basura.h5\""
   ]
  },
  {
   "cell_type": "code",
   "execution_count": null,
   "id": "384fc469-a36e-4b54-93a8-af7ed2eeb955",
   "metadata": {},
   "outputs": [],
   "source": [
    "# Si necesitamos descargarlo\n",
    "\n",
    "#url_modelo = \"https://basurales.s3.amazonaws.com/AMBA/modelos_CIM/basurales_AMBA_2023_04_chipsize_160_48.h5\"\n",
    "#!wget {url_modelo} -O $model_file"
   ]
  },
  {
   "cell_type": "markdown",
   "id": "7878a077-923f-4860-b4ac-dae11ac113e2",
   "metadata": {},
   "source": [
    "#### Parámetros para el modelo"
   ]
  },
  {
   "cell_type": "code",
   "execution_count": null,
   "id": "38e58e11-4d3d-4d7d-b047-49144b477fd9",
   "metadata": {},
   "outputs": [],
   "source": [
    "# batch size: cantidad de datos que se procesan por vez, puede ser limitado por \n",
    "# la memoria de gpu disponible \n",
    "batch = 96\n",
    "\n",
    "# tamaño de la imagen procesada por la UNet (debe ser multiplos de 16 , por ej 160, 320, etc) \n",
    "# y lo mas parecida posible a la resolucion de los chips\n",
    "unet_input_size = chip_size\n",
    "\n",
    "# cantidad de clases a detectar\n",
    "clases = 1\n",
    "\n",
    "# Directorio donde dejar los resultados\n",
    "resultados = \"/tmp/chips_predicciones/\"\n",
    "\n",
    "\n",
    "predict_config = PredictConfig(images_path = chip_dir,\n",
    "                               results_path = resultados, \n",
    "                               batch_size = batch,\n",
    "                               model_path = model_file,\n",
    "                               height = unet_input_size,\n",
    "                               width = unet_input_size,\n",
    "                               n_channels = 3, # porque trabajamos con imagen a color, 3 canales: Red, Green, Blue\n",
    "                               n_classes = clases)\n"
   ]
  },
  {
   "cell_type": "markdown",
   "id": "7ff4dc20-a752-43b2-a0c6-394127baa186",
   "metadata": {
    "tags": []
   },
   "source": [
    "#### Iniciamos el proceso de reconocimiento"
   ]
  },
  {
   "cell_type": "code",
   "execution_count": null,
   "id": "aabec4fa-5353-48be-ad50-7df2b6d0461f",
   "metadata": {},
   "outputs": [],
   "source": [
    "predict(predict_config)"
   ]
  },
  {
   "cell_type": "markdown",
   "id": "49559934-0880-4d62-aeaa-be866c34399c",
   "metadata": {},
   "source": [
    "#### Visualizamos algunos resultados"
   ]
  },
  {
   "cell_type": "code",
   "execution_count": null,
   "id": "58c7d64e-736e-444c-8745-cc8574a2c5ac",
   "metadata": {},
   "outputs": [],
   "source": [
    "plot_data_results(num_samples=5, predict_config=predict_config)"
   ]
  },
  {
   "cell_type": "markdown",
   "id": "0b2f5749-d6da-4162-83b4-9b38e47b652f",
   "metadata": {
    "tags": []
   },
   "source": [
    "### Exportar las predicciones "
   ]
  },
  {
   "cell_type": "code",
   "execution_count": null,
   "id": "225b46c6-7939-4f98-86cd-dcfd1c769a70",
   "metadata": {},
   "outputs": [],
   "source": [
    "from satproc.postprocess.polygonize import polygonize \n",
    "from satproc.filter import filter_by_max_prob\n",
    "from pathlib import Path"
   ]
  },
  {
   "cell_type": "code",
   "execution_count": null,
   "id": "07c8185c-80d0-4b76-bae0-dd679bf8fc94",
   "metadata": {
    "tags": []
   },
   "outputs": [],
   "source": [
    "# Donde vamos a guardar las predicciones\n",
    "\n",
    "export_dir = \"../predicciones/\""
   ]
  },
  {
   "cell_type": "markdown",
   "id": "1967c597-a8ea-4f4c-91f0-2ea434ffacbb",
   "metadata": {
    "tags": []
   },
   "source": [
    "#### Postprocesamiento"
   ]
  },
  {
   "cell_type": "code",
   "execution_count": null,
   "id": "6d479057-bd9f-4692-a954-d8c0088becb4",
   "metadata": {},
   "outputs": [],
   "source": [
    "# 1. Definimos un umbral de corte, descartando los pixeles con probabilidad menor\n",
    "\n",
    "thresh = 0.6  # valor del umbral (o \"threshold en inglés\"): 60% de probabilidad o más de corresponder a un basural\n",
    "\n",
    "input_path_unfiltered= \"/tmp/chips_predicciones/\"\n",
    "output_path_filtered = \"/tmp/chips_predicciones_filtered/\" + str(thresh).replace(\".\", \"\") + \"/\"\n",
    "\n",
    "\n",
    "filter_by_max_prob(input_dir=input_path_unfiltered,\n",
    "                   output_dir=output_path_filtered,\n",
    "                   threshold=thresh)\n",
    "\n",
    "# 2. Generamos polígonos cubriendo las áreas de los pixeles que superan el umbral\n",
    "\n",
    "input_path = output_path_filtered\n",
    "output_path = export_dir + 'prediccion_basurales_umbral_' + str(thresh).replace(\".\", \"\") + '.gpkg'\n",
    "\n",
    "polygonize(threshold=thresh,\n",
    "           input_dir=input_path,\n",
    "           output=output_path)"
   ]
  },
  {
   "cell_type": "code",
   "execution_count": null,
   "id": "72a8180d-75e4-4e6f-8a37-91c907091273",
   "metadata": {
    "tags": []
   },
   "outputs": [],
   "source": [
    "# Aquí quedan los resultados:\n",
    "\n",
    "!realpath $output_path"
   ]
  }
 ],
 "metadata": {
  "kernelspec": {
   "display_name": "reconocimiento_basurales:Python",
   "language": "python",
   "name": "conda-env-reconocimiento_basurales-py"
  },
  "language_info": {
   "codemirror_mode": {
    "name": "ipython",
    "version": 3
   },
   "file_extension": ".py",
   "mimetype": "text/x-python",
   "name": "python",
   "nbconvert_exporter": "python",
   "pygments_lexer": "ipython3",
   "version": "3.9.15"
  }
 },
 "nbformat": 4,
 "nbformat_minor": 5
}
